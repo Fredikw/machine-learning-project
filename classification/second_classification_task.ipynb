{
 "cells": [
  {
   "cell_type": "code",
   "execution_count": 37,
   "metadata": {},
   "outputs": [],
   "source": [
    "'''\n",
    "Utility function \n",
    "\n",
    "'''\n",
    "\n",
    "import numpy as np\n",
    "\n",
    "def to_one_hot_enc(arr):\n",
    "\n",
    "    one_hot_enc = []\n",
    "\n",
    "    for element in arr[0]:\n",
    "\n",
    "        sample = [0, 0, 0, 0]\n",
    "\n",
    "        sample[int(arr)] = 1 \n",
    "\n",
    "        one_hot_enc.append(sample)\n",
    "\n",
    "    return np.array(one_hot_enc)\n",
    "\n",
    "\n",
    "def from_one_hot_enc(arr):\n",
    "\n",
    "    lst = []\n",
    "    \n",
    "    for element in arr:\n",
    "\n",
    "        if element[0] > element[1]:\n",
    "            lst.append(1)\n",
    "        else:\n",
    "            lst.append(0)\n",
    "    \n",
    "    return np.array(lst)\n",
    "\n",
    "\n",
    "def reshape_images(arr):\n",
    "\n",
    "    img_list = []\n",
    "\n",
    "    for img in arr:\n",
    "        img = np.reshape(np.array(img),(50,50))\n",
    "        img_list.append(img)\n",
    "\n",
    "    return np.array(img_list)\n",
    "\n",
    "\n",
    "def samples_in_class_count(arr):\n",
    "\n",
    "    samples_in_class = np.bincount(arr.astype(int))\n",
    "\n",
    "    return samples_in_class[0], samples_in_class[1]"
   ]
  },
  {
   "cell_type": "code",
   "execution_count": 38,
   "metadata": {},
   "outputs": [
    {
     "name": "stdout",
     "output_type": "stream",
     "text": [
      "0.0\n",
      "0.0\n",
      "0.0\n",
      "2.0\n",
      "0.0\n",
      "2.0\n",
      "3.0\n"
     ]
    },
    {
     "ename": "TypeError",
     "evalue": "'numpy.float64' object is not iterable",
     "output_type": "error",
     "traceback": [
      "\u001b[1;31m---------------------------------------------------------------------------\u001b[0m",
      "\u001b[1;31mTypeError\u001b[0m                                 Traceback (most recent call last)",
      "\u001b[1;32m~\\AppData\\Local\\Temp/ipykernel_25320/700095059.py\u001b[0m in \u001b[0;36m<module>\u001b[1;34m\u001b[0m\n\u001b[0;32m     17\u001b[0m \u001b[0mprint\u001b[0m\u001b[1;33m(\u001b[0m\u001b[0my_data\u001b[0m\u001b[1;33m[\u001b[0m\u001b[1;36m18\u001b[0m\u001b[1;33m]\u001b[0m\u001b[1;33m)\u001b[0m\u001b[1;33m\u001b[0m\u001b[1;33m\u001b[0m\u001b[0m\n\u001b[0;32m     18\u001b[0m \u001b[1;33m\u001b[0m\u001b[0m\n\u001b[1;32m---> 19\u001b[1;33m \u001b[0mprint\u001b[0m\u001b[1;33m(\u001b[0m\u001b[0mto_one_hot_enc\u001b[0m\u001b[1;33m(\u001b[0m\u001b[0my_data\u001b[0m\u001b[1;33m)\u001b[0m\u001b[1;33m[\u001b[0m\u001b[1;36m1\u001b[0m\u001b[1;33m]\u001b[0m\u001b[1;33m)\u001b[0m\u001b[1;33m\u001b[0m\u001b[1;33m\u001b[0m\u001b[0m\n\u001b[0m\u001b[0;32m     20\u001b[0m \u001b[1;31m# print(to_one_hot_enc(y_data[0][2]))\u001b[0m\u001b[1;33m\u001b[0m\u001b[1;33m\u001b[0m\u001b[0m\n\u001b[0;32m     21\u001b[0m \u001b[1;31m# print(to_one_hot_enc(y_data[0][45]))\u001b[0m\u001b[1;33m\u001b[0m\u001b[1;33m\u001b[0m\u001b[0m\n",
      "\u001b[1;32m~\\AppData\\Local\\Temp/ipykernel_25320/3032591859.py\u001b[0m in \u001b[0;36mto_one_hot_enc\u001b[1;34m(arr)\u001b[0m\n\u001b[0;32m     10\u001b[0m     \u001b[0mone_hot_enc\u001b[0m \u001b[1;33m=\u001b[0m \u001b[1;33m[\u001b[0m\u001b[1;33m]\u001b[0m\u001b[1;33m\u001b[0m\u001b[1;33m\u001b[0m\u001b[0m\n\u001b[0;32m     11\u001b[0m \u001b[1;33m\u001b[0m\u001b[0m\n\u001b[1;32m---> 12\u001b[1;33m     \u001b[1;32mfor\u001b[0m \u001b[0melement\u001b[0m \u001b[1;32min\u001b[0m \u001b[0marr\u001b[0m\u001b[1;33m[\u001b[0m\u001b[1;36m0\u001b[0m\u001b[1;33m]\u001b[0m\u001b[1;33m:\u001b[0m\u001b[1;33m\u001b[0m\u001b[1;33m\u001b[0m\u001b[0m\n\u001b[0m\u001b[0;32m     13\u001b[0m \u001b[1;33m\u001b[0m\u001b[0m\n\u001b[0;32m     14\u001b[0m         \u001b[0msample\u001b[0m \u001b[1;33m=\u001b[0m \u001b[1;33m[\u001b[0m\u001b[1;36m0\u001b[0m\u001b[1;33m,\u001b[0m \u001b[1;36m0\u001b[0m\u001b[1;33m,\u001b[0m \u001b[1;36m0\u001b[0m\u001b[1;33m,\u001b[0m \u001b[1;36m0\u001b[0m\u001b[1;33m]\u001b[0m\u001b[1;33m\u001b[0m\u001b[1;33m\u001b[0m\u001b[0m\n",
      "\u001b[1;31mTypeError\u001b[0m: 'numpy.float64' object is not iterable"
     ]
    }
   ],
   "source": [
    "'''\n",
    "Preparing data \n",
    "\n",
    "'''\n",
    "import numpy as np\n",
    "from os import getcwd\n",
    "\n",
    "x_data = np.load(getcwd() + \"/training_set/Xtrain_Classification_Part2.npy\") # x_data.shape: (7366, 2500)\n",
    "y_data = np.load(getcwd() + \"/training_set/Ytrain_Classification_Part2.npy\") # y_data.shape: (7366,)\n",
    "\n",
    "print(y_data[1])\n",
    "print(y_data[2])\n",
    "print(y_data[45])\n",
    "print(y_data[6])\n",
    "print(y_data[4])\n",
    "print(y_data[3])\n",
    "print(y_data[18])\n",
    "\n",
    "print(to_one_hot_enc(y_data)[1])\n",
    "# print(to_one_hot_enc(y_data[0][2]))\n",
    "# print(to_one_hot_enc(y_data[0][45]))\n",
    "# print(to_one_hot_enc(y_data[0][6]))\n",
    "# print(to_one_hot_enc(y_data[0][4]))\n",
    "# print(to_one_hot_enc(y_data[0][3]))\n",
    "# print(to_one_hot_enc(y_data[0][18]))\n",
    "\n"
   ]
  }
 ],
 "metadata": {
  "interpreter": {
   "hash": "63fd5069d213b44bf678585dea6b12cceca9941eaf7f819626cde1f2670de90d"
  },
  "kernelspec": {
   "display_name": "Python 3.9.7 64-bit",
   "language": "python",
   "name": "python3"
  },
  "language_info": {
   "codemirror_mode": {
    "name": "ipython",
    "version": 3
   },
   "file_extension": ".py",
   "mimetype": "text/x-python",
   "name": "python",
   "nbconvert_exporter": "python",
   "pygments_lexer": "ipython3",
   "version": "3.9.7"
  },
  "orig_nbformat": 4
 },
 "nbformat": 4,
 "nbformat_minor": 2
}
